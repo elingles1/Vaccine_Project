{
 "cells": [
  {
   "cell_type": "markdown",
   "metadata": {},
   "source": [
    "### Project 3: Vaccines"
   ]
  },
  {
   "cell_type": "markdown",
   "metadata": {},
   "source": [
    "First let's read in our two csv's. Our feature descriptions can be found here: https://www.drivendata.org/competitions/66/flu-shot-learning/page/211/"
   ]
  },
  {
   "cell_type": "markdown",
   "metadata": {},
   "source": [
    "## Business Problem"
   ]
  },
  {
   "cell_type": "markdown",
   "metadata": {},
   "source": [
    "Are there patterns in who does or does not get their seasonal flu vaccination?"
   ]
  },
  {
   "cell_type": "markdown",
   "metadata": {},
   "source": [
    "## Data Exploration"
   ]
  },
  {
   "cell_type": "code",
   "execution_count": 61,
   "metadata": {},
   "outputs": [],
   "source": [
    "#imports galore\n",
    "import pandas as pd\n",
    "import numpy as np\n",
    "\n",
    "import matplotlib.pyplot as plt\n",
    "\n",
    "from sklearn.pipeline import Pipeline\n",
    "from sklearn.compose import ColumnTransformer\n",
    "from sklearn.impute import SimpleImputer\n",
    "from sklearn.preprocessing import MinMaxScaler, OneHotEncoder, StandardScaler\n",
    "from sklearn.dummy import DummyClassifier\n",
    "from sklearn.linear_model import LogisticRegression\n",
    "from sklearn.tree import DecisionTreeClassifier\n",
    "from sklearn.neighbors import KNeighborsClassifier\n",
    "from sklearn.naive_bayes import GaussianNB, MultinomialNB\n",
    "from sklearn.model_selection import train_test_split, cross_validate\n",
    "from sklearn.metrics import accuracy_score, f1_score, precision_score, recall_score\n",
    "from sklearn.metrics import roc_auc_score, plot_roc_curve, plot_precision_recall_curve\n",
    "from sklearn.metrics import confusion_matrix, plot_confusion_matrix"
   ]
  },
  {
   "cell_type": "code",
   "execution_count": 2,
   "metadata": {},
   "outputs": [],
   "source": [
    "# Reading in two csv's\n",
    "features = pd.read_csv('Data/training_set_features.csv')\n",
    "labels = pd.read_csv('Data/training_set_labels.csv')"
   ]
  },
  {
   "cell_type": "code",
   "execution_count": 3,
   "metadata": {
    "collapsed": true
   },
   "outputs": [
    {
     "data": {
      "text/html": [
       "<div>\n",
       "<style scoped>\n",
       "    .dataframe tbody tr th:only-of-type {\n",
       "        vertical-align: middle;\n",
       "    }\n",
       "\n",
       "    .dataframe tbody tr th {\n",
       "        vertical-align: top;\n",
       "    }\n",
       "\n",
       "    .dataframe thead th {\n",
       "        text-align: right;\n",
       "    }\n",
       "</style>\n",
       "<table border=\"1\" class=\"dataframe\">\n",
       "  <thead>\n",
       "    <tr style=\"text-align: right;\">\n",
       "      <th></th>\n",
       "      <th>respondent_id</th>\n",
       "      <th>h1n1_concern</th>\n",
       "      <th>h1n1_knowledge</th>\n",
       "      <th>behavioral_antiviral_meds</th>\n",
       "      <th>behavioral_avoidance</th>\n",
       "      <th>behavioral_face_mask</th>\n",
       "      <th>behavioral_wash_hands</th>\n",
       "      <th>behavioral_large_gatherings</th>\n",
       "      <th>behavioral_outside_home</th>\n",
       "      <th>behavioral_touch_face</th>\n",
       "      <th>...</th>\n",
       "      <th>income_poverty</th>\n",
       "      <th>marital_status</th>\n",
       "      <th>rent_or_own</th>\n",
       "      <th>employment_status</th>\n",
       "      <th>hhs_geo_region</th>\n",
       "      <th>census_msa</th>\n",
       "      <th>household_adults</th>\n",
       "      <th>household_children</th>\n",
       "      <th>employment_industry</th>\n",
       "      <th>employment_occupation</th>\n",
       "    </tr>\n",
       "  </thead>\n",
       "  <tbody>\n",
       "    <tr>\n",
       "      <th>0</th>\n",
       "      <td>0</td>\n",
       "      <td>1.0</td>\n",
       "      <td>0.0</td>\n",
       "      <td>0.0</td>\n",
       "      <td>0.0</td>\n",
       "      <td>0.0</td>\n",
       "      <td>0.0</td>\n",
       "      <td>0.0</td>\n",
       "      <td>1.0</td>\n",
       "      <td>1.0</td>\n",
       "      <td>...</td>\n",
       "      <td>Below Poverty</td>\n",
       "      <td>Not Married</td>\n",
       "      <td>Own</td>\n",
       "      <td>Not in Labor Force</td>\n",
       "      <td>oxchjgsf</td>\n",
       "      <td>Non-MSA</td>\n",
       "      <td>0.0</td>\n",
       "      <td>0.0</td>\n",
       "      <td>NaN</td>\n",
       "      <td>NaN</td>\n",
       "    </tr>\n",
       "    <tr>\n",
       "      <th>1</th>\n",
       "      <td>1</td>\n",
       "      <td>3.0</td>\n",
       "      <td>2.0</td>\n",
       "      <td>0.0</td>\n",
       "      <td>1.0</td>\n",
       "      <td>0.0</td>\n",
       "      <td>1.0</td>\n",
       "      <td>0.0</td>\n",
       "      <td>1.0</td>\n",
       "      <td>1.0</td>\n",
       "      <td>...</td>\n",
       "      <td>Below Poverty</td>\n",
       "      <td>Not Married</td>\n",
       "      <td>Rent</td>\n",
       "      <td>Employed</td>\n",
       "      <td>bhuqouqj</td>\n",
       "      <td>MSA, Not Principle  City</td>\n",
       "      <td>0.0</td>\n",
       "      <td>0.0</td>\n",
       "      <td>pxcmvdjn</td>\n",
       "      <td>xgwztkwe</td>\n",
       "    </tr>\n",
       "    <tr>\n",
       "      <th>2</th>\n",
       "      <td>2</td>\n",
       "      <td>1.0</td>\n",
       "      <td>1.0</td>\n",
       "      <td>0.0</td>\n",
       "      <td>1.0</td>\n",
       "      <td>0.0</td>\n",
       "      <td>0.0</td>\n",
       "      <td>0.0</td>\n",
       "      <td>0.0</td>\n",
       "      <td>0.0</td>\n",
       "      <td>...</td>\n",
       "      <td>&lt;= $75,000, Above Poverty</td>\n",
       "      <td>Not Married</td>\n",
       "      <td>Own</td>\n",
       "      <td>Employed</td>\n",
       "      <td>qufhixun</td>\n",
       "      <td>MSA, Not Principle  City</td>\n",
       "      <td>2.0</td>\n",
       "      <td>0.0</td>\n",
       "      <td>rucpziij</td>\n",
       "      <td>xtkaffoo</td>\n",
       "    </tr>\n",
       "    <tr>\n",
       "      <th>3</th>\n",
       "      <td>3</td>\n",
       "      <td>1.0</td>\n",
       "      <td>1.0</td>\n",
       "      <td>0.0</td>\n",
       "      <td>1.0</td>\n",
       "      <td>0.0</td>\n",
       "      <td>1.0</td>\n",
       "      <td>1.0</td>\n",
       "      <td>0.0</td>\n",
       "      <td>0.0</td>\n",
       "      <td>...</td>\n",
       "      <td>Below Poverty</td>\n",
       "      <td>Not Married</td>\n",
       "      <td>Rent</td>\n",
       "      <td>Not in Labor Force</td>\n",
       "      <td>lrircsnp</td>\n",
       "      <td>MSA, Principle City</td>\n",
       "      <td>0.0</td>\n",
       "      <td>0.0</td>\n",
       "      <td>NaN</td>\n",
       "      <td>NaN</td>\n",
       "    </tr>\n",
       "    <tr>\n",
       "      <th>4</th>\n",
       "      <td>4</td>\n",
       "      <td>2.0</td>\n",
       "      <td>1.0</td>\n",
       "      <td>0.0</td>\n",
       "      <td>1.0</td>\n",
       "      <td>0.0</td>\n",
       "      <td>1.0</td>\n",
       "      <td>1.0</td>\n",
       "      <td>0.0</td>\n",
       "      <td>1.0</td>\n",
       "      <td>...</td>\n",
       "      <td>&lt;= $75,000, Above Poverty</td>\n",
       "      <td>Married</td>\n",
       "      <td>Own</td>\n",
       "      <td>Employed</td>\n",
       "      <td>qufhixun</td>\n",
       "      <td>MSA, Not Principle  City</td>\n",
       "      <td>1.0</td>\n",
       "      <td>0.0</td>\n",
       "      <td>wxleyezf</td>\n",
       "      <td>emcorrxb</td>\n",
       "    </tr>\n",
       "  </tbody>\n",
       "</table>\n",
       "<p>5 rows × 36 columns</p>\n",
       "</div>"
      ],
      "text/plain": [
       "   respondent_id  h1n1_concern  h1n1_knowledge  behavioral_antiviral_meds  \\\n",
       "0              0           1.0             0.0                        0.0   \n",
       "1              1           3.0             2.0                        0.0   \n",
       "2              2           1.0             1.0                        0.0   \n",
       "3              3           1.0             1.0                        0.0   \n",
       "4              4           2.0             1.0                        0.0   \n",
       "\n",
       "   behavioral_avoidance  behavioral_face_mask  behavioral_wash_hands  \\\n",
       "0                   0.0                   0.0                    0.0   \n",
       "1                   1.0                   0.0                    1.0   \n",
       "2                   1.0                   0.0                    0.0   \n",
       "3                   1.0                   0.0                    1.0   \n",
       "4                   1.0                   0.0                    1.0   \n",
       "\n",
       "   behavioral_large_gatherings  behavioral_outside_home  \\\n",
       "0                          0.0                      1.0   \n",
       "1                          0.0                      1.0   \n",
       "2                          0.0                      0.0   \n",
       "3                          1.0                      0.0   \n",
       "4                          1.0                      0.0   \n",
       "\n",
       "   behavioral_touch_face  ...             income_poverty  marital_status  \\\n",
       "0                    1.0  ...              Below Poverty     Not Married   \n",
       "1                    1.0  ...              Below Poverty     Not Married   \n",
       "2                    0.0  ...  <= $75,000, Above Poverty     Not Married   \n",
       "3                    0.0  ...              Below Poverty     Not Married   \n",
       "4                    1.0  ...  <= $75,000, Above Poverty         Married   \n",
       "\n",
       "   rent_or_own   employment_status  hhs_geo_region                census_msa  \\\n",
       "0          Own  Not in Labor Force        oxchjgsf                   Non-MSA   \n",
       "1         Rent            Employed        bhuqouqj  MSA, Not Principle  City   \n",
       "2          Own            Employed        qufhixun  MSA, Not Principle  City   \n",
       "3         Rent  Not in Labor Force        lrircsnp       MSA, Principle City   \n",
       "4          Own            Employed        qufhixun  MSA, Not Principle  City   \n",
       "\n",
       "   household_adults  household_children  employment_industry  \\\n",
       "0               0.0                 0.0                  NaN   \n",
       "1               0.0                 0.0             pxcmvdjn   \n",
       "2               2.0                 0.0             rucpziij   \n",
       "3               0.0                 0.0                  NaN   \n",
       "4               1.0                 0.0             wxleyezf   \n",
       "\n",
       "   employment_occupation  \n",
       "0                    NaN  \n",
       "1               xgwztkwe  \n",
       "2               xtkaffoo  \n",
       "3                    NaN  \n",
       "4               emcorrxb  \n",
       "\n",
       "[5 rows x 36 columns]"
      ]
     },
     "execution_count": 3,
     "metadata": {},
     "output_type": "execute_result"
    }
   ],
   "source": [
    "features.head()"
   ]
  },
  {
   "cell_type": "code",
   "execution_count": 4,
   "metadata": {},
   "outputs": [
    {
     "data": {
      "text/html": [
       "<div>\n",
       "<style scoped>\n",
       "    .dataframe tbody tr th:only-of-type {\n",
       "        vertical-align: middle;\n",
       "    }\n",
       "\n",
       "    .dataframe tbody tr th {\n",
       "        vertical-align: top;\n",
       "    }\n",
       "\n",
       "    .dataframe thead th {\n",
       "        text-align: right;\n",
       "    }\n",
       "</style>\n",
       "<table border=\"1\" class=\"dataframe\">\n",
       "  <thead>\n",
       "    <tr style=\"text-align: right;\">\n",
       "      <th></th>\n",
       "      <th>respondent_id</th>\n",
       "      <th>h1n1_vaccine</th>\n",
       "      <th>seasonal_vaccine</th>\n",
       "    </tr>\n",
       "  </thead>\n",
       "  <tbody>\n",
       "    <tr>\n",
       "      <th>0</th>\n",
       "      <td>0</td>\n",
       "      <td>0</td>\n",
       "      <td>0</td>\n",
       "    </tr>\n",
       "    <tr>\n",
       "      <th>1</th>\n",
       "      <td>1</td>\n",
       "      <td>0</td>\n",
       "      <td>1</td>\n",
       "    </tr>\n",
       "    <tr>\n",
       "      <th>2</th>\n",
       "      <td>2</td>\n",
       "      <td>0</td>\n",
       "      <td>0</td>\n",
       "    </tr>\n",
       "    <tr>\n",
       "      <th>3</th>\n",
       "      <td>3</td>\n",
       "      <td>0</td>\n",
       "      <td>1</td>\n",
       "    </tr>\n",
       "    <tr>\n",
       "      <th>4</th>\n",
       "      <td>4</td>\n",
       "      <td>0</td>\n",
       "      <td>0</td>\n",
       "    </tr>\n",
       "  </tbody>\n",
       "</table>\n",
       "</div>"
      ],
      "text/plain": [
       "   respondent_id  h1n1_vaccine  seasonal_vaccine\n",
       "0              0             0                 0\n",
       "1              1             0                 1\n",
       "2              2             0                 0\n",
       "3              3             0                 1\n",
       "4              4             0                 0"
      ]
     },
     "execution_count": 4,
     "metadata": {},
     "output_type": "execute_result"
    }
   ],
   "source": [
    "labels.head()"
   ]
  },
  {
   "cell_type": "code",
   "execution_count": 5,
   "metadata": {
    "collapsed": true
   },
   "outputs": [
    {
     "name": "stdout",
     "output_type": "stream",
     "text": [
      "<class 'pandas.core.frame.DataFrame'>\n",
      "RangeIndex: 26707 entries, 0 to 26706\n",
      "Data columns (total 36 columns):\n",
      " #   Column                       Non-Null Count  Dtype  \n",
      "---  ------                       --------------  -----  \n",
      " 0   respondent_id                26707 non-null  int64  \n",
      " 1   h1n1_concern                 26615 non-null  float64\n",
      " 2   h1n1_knowledge               26591 non-null  float64\n",
      " 3   behavioral_antiviral_meds    26636 non-null  float64\n",
      " 4   behavioral_avoidance         26499 non-null  float64\n",
      " 5   behavioral_face_mask         26688 non-null  float64\n",
      " 6   behavioral_wash_hands        26665 non-null  float64\n",
      " 7   behavioral_large_gatherings  26620 non-null  float64\n",
      " 8   behavioral_outside_home      26625 non-null  float64\n",
      " 9   behavioral_touch_face        26579 non-null  float64\n",
      " 10  doctor_recc_h1n1             24547 non-null  float64\n",
      " 11  doctor_recc_seasonal         24547 non-null  float64\n",
      " 12  chronic_med_condition        25736 non-null  float64\n",
      " 13  child_under_6_months         25887 non-null  float64\n",
      " 14  health_worker                25903 non-null  float64\n",
      " 15  health_insurance             14433 non-null  float64\n",
      " 16  opinion_h1n1_vacc_effective  26316 non-null  float64\n",
      " 17  opinion_h1n1_risk            26319 non-null  float64\n",
      " 18  opinion_h1n1_sick_from_vacc  26312 non-null  float64\n",
      " 19  opinion_seas_vacc_effective  26245 non-null  float64\n",
      " 20  opinion_seas_risk            26193 non-null  float64\n",
      " 21  opinion_seas_sick_from_vacc  26170 non-null  float64\n",
      " 22  age_group                    26707 non-null  object \n",
      " 23  education                    25300 non-null  object \n",
      " 24  race                         26707 non-null  object \n",
      " 25  sex                          26707 non-null  object \n",
      " 26  income_poverty               22284 non-null  object \n",
      " 27  marital_status               25299 non-null  object \n",
      " 28  rent_or_own                  24665 non-null  object \n",
      " 29  employment_status            25244 non-null  object \n",
      " 30  hhs_geo_region               26707 non-null  object \n",
      " 31  census_msa                   26707 non-null  object \n",
      " 32  household_adults             26458 non-null  float64\n",
      " 33  household_children           26458 non-null  float64\n",
      " 34  employment_industry          13377 non-null  object \n",
      " 35  employment_occupation        13237 non-null  object \n",
      "dtypes: float64(23), int64(1), object(12)\n",
      "memory usage: 7.3+ MB\n"
     ]
    }
   ],
   "source": [
    "features.info()"
   ]
  },
  {
   "cell_type": "code",
   "execution_count": 6,
   "metadata": {
    "collapsed": true
   },
   "outputs": [
    {
     "name": "stdout",
     "output_type": "stream",
     "text": [
      "<class 'pandas.core.frame.DataFrame'>\n",
      "RangeIndex: 26707 entries, 0 to 26706\n",
      "Data columns (total 3 columns):\n",
      " #   Column            Non-Null Count  Dtype\n",
      "---  ------            --------------  -----\n",
      " 0   respondent_id     26707 non-null  int64\n",
      " 1   h1n1_vaccine      26707 non-null  int64\n",
      " 2   seasonal_vaccine  26707 non-null  int64\n",
      "dtypes: int64(3)\n",
      "memory usage: 626.1 KB\n"
     ]
    }
   ],
   "source": [
    "labels.info()"
   ]
  },
  {
   "cell_type": "markdown",
   "metadata": {},
   "source": [
    "## Cleaning Data\n",
    "\n",
    "Not all of our columns are relevant. We are working with seasonal flu so we can get rid of all h1n1 columns. We also took out behavioral questions to focus more on demographics. "
   ]
  },
  {
   "cell_type": "code",
   "execution_count": 7,
   "metadata": {
    "collapsed": true
   },
   "outputs": [
    {
     "data": {
      "text/plain": [
       "Index(['respondent_id', 'h1n1_concern', 'h1n1_knowledge',\n",
       "       'behavioral_antiviral_meds', 'behavioral_avoidance',\n",
       "       'behavioral_face_mask', 'behavioral_wash_hands',\n",
       "       'behavioral_large_gatherings', 'behavioral_outside_home',\n",
       "       'behavioral_touch_face', 'doctor_recc_h1n1', 'doctor_recc_seasonal',\n",
       "       'chronic_med_condition', 'child_under_6_months', 'health_worker',\n",
       "       'health_insurance', 'opinion_h1n1_vacc_effective', 'opinion_h1n1_risk',\n",
       "       'opinion_h1n1_sick_from_vacc', 'opinion_seas_vacc_effective',\n",
       "       'opinion_seas_risk', 'opinion_seas_sick_from_vacc', 'age_group',\n",
       "       'education', 'race', 'sex', 'income_poverty', 'marital_status',\n",
       "       'rent_or_own', 'employment_status', 'hhs_geo_region', 'census_msa',\n",
       "       'household_adults', 'household_children', 'employment_industry',\n",
       "       'employment_occupation'],\n",
       "      dtype='object')"
      ]
     },
     "execution_count": 7,
     "metadata": {},
     "output_type": "execute_result"
    }
   ],
   "source": [
    "features.columns"
   ]
  },
  {
   "cell_type": "code",
   "execution_count": 8,
   "metadata": {},
   "outputs": [],
   "source": [
    "features2 = features.drop(columns = ['h1n1_concern', 'h1n1_knowledge', 'doctor_recc_h1n1', 'opinion_h1n1_risk', 'opinion_h1n1_vacc_effective',\n",
    "                        'opinion_h1n1_sick_from_vacc', 'behavioral_antiviral_meds', 'behavioral_avoidance',\n",
    "       'behavioral_face_mask', 'behavioral_wash_hands',\n",
    "       'behavioral_large_gatherings', 'behavioral_outside_home',\n",
    "       'behavioral_touch_face','opinion_seas_vacc_effective',\n",
    "       'opinion_seas_risk', 'opinion_seas_sick_from_vacc', 'respondent_id' ])\n",
    "label2 = labels.drop(columns = ['h1n1_vaccine'])"
   ]
  },
  {
   "cell_type": "code",
   "execution_count": 9,
   "metadata": {},
   "outputs": [],
   "source": [
    "# Making vaccination status a new column so we only have to work on one data set\n",
    "features2['vaccine_status'] = label2['seasonal_vaccine']"
   ]
  },
  {
   "cell_type": "code",
   "execution_count": 10,
   "metadata": {
    "collapsed": true
   },
   "outputs": [
    {
     "name": "stdout",
     "output_type": "stream",
     "text": [
      "<class 'pandas.core.frame.DataFrame'>\n",
      "RangeIndex: 26707 entries, 0 to 26706\n",
      "Data columns (total 20 columns):\n",
      " #   Column                 Non-Null Count  Dtype  \n",
      "---  ------                 --------------  -----  \n",
      " 0   doctor_recc_seasonal   24547 non-null  float64\n",
      " 1   chronic_med_condition  25736 non-null  float64\n",
      " 2   child_under_6_months   25887 non-null  float64\n",
      " 3   health_worker          25903 non-null  float64\n",
      " 4   health_insurance       14433 non-null  float64\n",
      " 5   age_group              26707 non-null  object \n",
      " 6   education              25300 non-null  object \n",
      " 7   race                   26707 non-null  object \n",
      " 8   sex                    26707 non-null  object \n",
      " 9   income_poverty         22284 non-null  object \n",
      " 10  marital_status         25299 non-null  object \n",
      " 11  rent_or_own            24665 non-null  object \n",
      " 12  employment_status      25244 non-null  object \n",
      " 13  hhs_geo_region         26707 non-null  object \n",
      " 14  census_msa             26707 non-null  object \n",
      " 15  household_adults       26458 non-null  float64\n",
      " 16  household_children     26458 non-null  float64\n",
      " 17  employment_industry    13377 non-null  object \n",
      " 18  employment_occupation  13237 non-null  object \n",
      " 19  vaccine_status         26707 non-null  int64  \n",
      "dtypes: float64(7), int64(1), object(12)\n",
      "memory usage: 4.1+ MB\n"
     ]
    }
   ],
   "source": [
    "features2.info()"
   ]
  },
  {
   "cell_type": "code",
   "execution_count": 11,
   "metadata": {},
   "outputs": [],
   "source": [
    "# How handle null value\n",
    "# Dropping these columns because unusable \n",
    "features2 = features2.drop(columns = ['employment_industry', 'employment_occupation', 'hhs_geo_region', 'census_msa'])"
   ]
  },
  {
   "cell_type": "code",
   "execution_count": 12,
   "metadata": {},
   "outputs": [],
   "source": [
    "# Assuming Nan's to have no health insurance \n",
    "features2['health_insurance'] = features2['health_insurance'].fillna(0.0) "
   ]
  },
  {
   "cell_type": "code",
   "execution_count": 13,
   "metadata": {},
   "outputs": [
    {
     "data": {
      "text/plain": [
       "0    <= $75,000, Above Poverty\n",
       "dtype: object"
      ]
     },
     "execution_count": 13,
     "metadata": {},
     "output_type": "execute_result"
    }
   ],
   "source": [
    "features2['income_poverty'].mode()"
   ]
  },
  {
   "cell_type": "code",
   "execution_count": 14,
   "metadata": {},
   "outputs": [],
   "source": [
    "features2['income_poverty'].fillna('<= $75,000, Above Poverty', inplace=True)"
   ]
  },
  {
   "cell_type": "code",
   "execution_count": 15,
   "metadata": {},
   "outputs": [
    {
     "data": {
      "text/plain": [
       "0"
      ]
     },
     "execution_count": 15,
     "metadata": {},
     "output_type": "execute_result"
    }
   ],
   "source": [
    "features2['income_poverty'].isna().sum()"
   ]
  },
  {
   "cell_type": "code",
   "execution_count": 16,
   "metadata": {
    "scrolled": true
   },
   "outputs": [
    {
     "data": {
      "text/plain": [
       "Employed      13560\n",
       "Unemployed    11684\n",
       "Name: employment_status, dtype: int64"
      ]
     },
     "execution_count": 16,
     "metadata": {},
     "output_type": "execute_result"
    }
   ],
   "source": [
    "# Changing income_poverty to two values\n",
    "features2['employment_status'] = features2['employment_status'].replace(\"Not in Labor Force\", 'Unemployed')\n",
    "features2['employment_status'].value_counts()"
   ]
  },
  {
   "cell_type": "code",
   "execution_count": 17,
   "metadata": {},
   "outputs": [
    {
     "data": {
      "text/plain": [
       "Above Poverty    17200\n",
       "> $75,000         6810\n",
       "Below Poverty     2697\n",
       "Name: income_poverty, dtype: int64"
      ]
     },
     "execution_count": 17,
     "metadata": {},
     "output_type": "execute_result"
    }
   ],
   "source": [
    "# Changing income_poverty to two values\n",
    "features2['income_poverty'] = features2['income_poverty'].replace('>$75,000', 'Below Poverty').replace('<= $75,000, Above Poverty', 'Above Poverty')\n",
    "features2['income_poverty'].value_counts()"
   ]
  },
  {
   "cell_type": "code",
   "execution_count": 18,
   "metadata": {},
   "outputs": [],
   "source": [
    "features2 = features2.dropna()"
   ]
  },
  {
   "cell_type": "code",
   "execution_count": 19,
   "metadata": {},
   "outputs": [
    {
     "name": "stdout",
     "output_type": "stream",
     "text": [
      "<class 'pandas.core.frame.DataFrame'>\n",
      "Int64Index: 22319 entries, 0 to 26706\n",
      "Data columns (total 16 columns):\n",
      " #   Column                 Non-Null Count  Dtype  \n",
      "---  ------                 --------------  -----  \n",
      " 0   doctor_recc_seasonal   22319 non-null  float64\n",
      " 1   chronic_med_condition  22319 non-null  float64\n",
      " 2   child_under_6_months   22319 non-null  float64\n",
      " 3   health_worker          22319 non-null  float64\n",
      " 4   health_insurance       22319 non-null  float64\n",
      " 5   age_group              22319 non-null  object \n",
      " 6   education              22319 non-null  object \n",
      " 7   race                   22319 non-null  object \n",
      " 8   sex                    22319 non-null  object \n",
      " 9   income_poverty         22319 non-null  object \n",
      " 10  marital_status         22319 non-null  object \n",
      " 11  rent_or_own            22319 non-null  object \n",
      " 12  employment_status      22319 non-null  object \n",
      " 13  household_adults       22319 non-null  float64\n",
      " 14  household_children     22319 non-null  float64\n",
      " 15  vaccine_status         22319 non-null  int64  \n",
      "dtypes: float64(7), int64(1), object(8)\n",
      "memory usage: 2.9+ MB\n"
     ]
    }
   ],
   "source": [
    "features2.info()"
   ]
  },
  {
   "cell_type": "markdown",
   "metadata": {},
   "source": [
    "## Train-Test Split"
   ]
  },
  {
   "cell_type": "code",
   "execution_count": 20,
   "metadata": {},
   "outputs": [],
   "source": [
    "X = features2.drop(columns = 'vaccine_status')\n",
    "y = features2['vaccine_status']"
   ]
  },
  {
   "cell_type": "code",
   "execution_count": 21,
   "metadata": {},
   "outputs": [],
   "source": [
    "X_train, X_test, y_train, y_test = train_test_split(X, y, random_state = 42)"
   ]
  },
  {
   "cell_type": "code",
   "execution_count": 22,
   "metadata": {},
   "outputs": [
    {
     "name": "stdout",
     "output_type": "stream",
     "text": [
      "<class 'pandas.core.frame.DataFrame'>\n",
      "Int64Index: 16739 entries, 5031 to 18858\n",
      "Data columns (total 15 columns):\n",
      " #   Column                 Non-Null Count  Dtype  \n",
      "---  ------                 --------------  -----  \n",
      " 0   doctor_recc_seasonal   16739 non-null  float64\n",
      " 1   chronic_med_condition  16739 non-null  float64\n",
      " 2   child_under_6_months   16739 non-null  float64\n",
      " 3   health_worker          16739 non-null  float64\n",
      " 4   health_insurance       16739 non-null  float64\n",
      " 5   age_group              16739 non-null  object \n",
      " 6   education              16739 non-null  object \n",
      " 7   race                   16739 non-null  object \n",
      " 8   sex                    16739 non-null  object \n",
      " 9   income_poverty         16739 non-null  object \n",
      " 10  marital_status         16739 non-null  object \n",
      " 11  rent_or_own            16739 non-null  object \n",
      " 12  employment_status      16739 non-null  object \n",
      " 13  household_adults       16739 non-null  float64\n",
      " 14  household_children     16739 non-null  float64\n",
      "dtypes: float64(7), object(8)\n",
      "memory usage: 2.0+ MB\n"
     ]
    }
   ],
   "source": [
    "X_train.info()"
   ]
  },
  {
   "cell_type": "code",
   "execution_count": 23,
   "metadata": {},
   "outputs": [
    {
     "data": {
      "text/plain": [
       "['doctor_recc_seasonal',\n",
       " 'chronic_med_condition',\n",
       " 'child_under_6_months',\n",
       " 'health_worker',\n",
       " 'health_insurance',\n",
       " 'household_adults',\n",
       " 'household_children']"
      ]
     },
     "execution_count": 23,
     "metadata": {},
     "output_type": "execute_result"
    }
   ],
   "source": [
    "num_cols = [c for c in X_train.columns if X_train[c].dtype in ['int64', 'float64']]\n",
    "num_cols"
   ]
  },
  {
   "cell_type": "code",
   "execution_count": 24,
   "metadata": {
    "scrolled": false
   },
   "outputs": [
    {
     "data": {
      "text/plain": [
       "['age_group',\n",
       " 'education',\n",
       " 'race',\n",
       " 'sex',\n",
       " 'income_poverty',\n",
       " 'marital_status',\n",
       " 'rent_or_own',\n",
       " 'employment_status']"
      ]
     },
     "execution_count": 24,
     "metadata": {},
     "output_type": "execute_result"
    }
   ],
   "source": [
    "cat_columns = [c for c in X_train.columns if X_train[c].dtype == 'O']\n",
    "cat_columns"
   ]
  },
  {
   "cell_type": "markdown",
   "metadata": {},
   "source": [
    "## Model-less Baselines"
   ]
  },
  {
   "cell_type": "code",
   "execution_count": 25,
   "metadata": {},
   "outputs": [
    {
     "data": {
      "text/plain": [
       "0    0.52303\n",
       "1    0.47697\n",
       "Name: vaccine_status, dtype: float64"
      ]
     },
     "execution_count": 25,
     "metadata": {},
     "output_type": "execute_result"
    }
   ],
   "source": [
    "pd.Series(y_train).value_counts(normalize=True)"
   ]
  },
  {
   "cell_type": "code",
   "execution_count": 26,
   "metadata": {},
   "outputs": [],
   "source": [
    "modelless = [0] * len(y_train) "
   ]
  },
  {
   "cell_type": "code",
   "execution_count": 27,
   "metadata": {},
   "outputs": [],
   "source": [
    "from sklearn.metrics import accuracy_score, precision_score, f1_score, recall_score"
   ]
  },
  {
   "cell_type": "code",
   "execution_count": 28,
   "metadata": {},
   "outputs": [
    {
     "data": {
      "text/plain": [
       "0.5230300495848019"
      ]
     },
     "execution_count": 28,
     "metadata": {},
     "output_type": "execute_result"
    }
   ],
   "source": [
    "accuracy_score(y_train, modelless)"
   ]
  },
  {
   "cell_type": "code",
   "execution_count": 29,
   "metadata": {},
   "outputs": [
    {
     "name": "stderr",
     "output_type": "stream",
     "text": [
      "C:\\Users\\eliin\\anaconda3\\envs\\learn-env\\lib\\site-packages\\sklearn\\metrics\\_classification.py:1221: UndefinedMetricWarning: Precision is ill-defined and being set to 0.0 due to no predicted samples. Use `zero_division` parameter to control this behavior.\n",
      "  _warn_prf(average, modifier, msg_start, len(result))\n"
     ]
    },
    {
     "data": {
      "text/plain": [
       "0.0"
      ]
     },
     "execution_count": 29,
     "metadata": {},
     "output_type": "execute_result"
    }
   ],
   "source": [
    "precision_score(y_train, modelless)"
   ]
  },
  {
   "cell_type": "code",
   "execution_count": 30,
   "metadata": {},
   "outputs": [
    {
     "data": {
      "text/plain": [
       "0.0"
      ]
     },
     "execution_count": 30,
     "metadata": {},
     "output_type": "execute_result"
    }
   ],
   "source": [
    "f1_score(y_train, modelless)"
   ]
  },
  {
   "cell_type": "code",
   "execution_count": 31,
   "metadata": {},
   "outputs": [
    {
     "data": {
      "text/plain": [
       "0.0"
      ]
     },
     "execution_count": 31,
     "metadata": {},
     "output_type": "execute_result"
    }
   ],
   "source": [
    "recall_score(y_train, modelless)"
   ]
  },
  {
   "cell_type": "markdown",
   "metadata": {},
   "source": [
    "## Pipeline and Encoding"
   ]
  },
  {
   "cell_type": "code",
   "execution_count": 32,
   "metadata": {},
   "outputs": [],
   "source": [
    "cat_transformer = OneHotEncoder(handle_unknown = 'ignore')\n",
    "\n",
    "num_transformer = StandardScaler()"
   ]
  },
  {
   "cell_type": "code",
   "execution_count": 33,
   "metadata": {},
   "outputs": [],
   "source": [
    "preprocessor = ColumnTransformer([\n",
    "    ('cats', cat_transformer, cat_columns),\n",
    "    ('nums', num_transformer, num_cols)\n",
    "])"
   ]
  },
  {
   "cell_type": "markdown",
   "metadata": {},
   "source": [
    "##  Kitchen Sink Decision Tree Model "
   ]
  },
  {
   "cell_type": "code",
   "execution_count": 34,
   "metadata": {},
   "outputs": [],
   "source": [
    "from sklearn.tree import DecisionTreeClassifier\n",
    "from sklearn.pipeline import Pipeline\n",
    "from sklearn.compose import ColumnTransformer\n",
    "from sklearn.metrics import roc_auc_score, roc_curve, plot_roc_curve\n",
    "from sklearn.metrics import plot_confusion_matrix\n",
    "# Probably need more imports than just these!\n",
    "from sklearn.preprocessing import OneHotEncoder, StandardScaler"
   ]
  },
  {
   "cell_type": "code",
   "execution_count": 35,
   "metadata": {},
   "outputs": [],
   "source": [
    "tree = DecisionTreeClassifier()"
   ]
  },
  {
   "cell_type": "code",
   "execution_count": 36,
   "metadata": {},
   "outputs": [],
   "source": [
    "used_cols = [*cat_columns, *num_cols]"
   ]
  },
  {
   "cell_type": "code",
   "execution_count": 37,
   "metadata": {},
   "outputs": [],
   "source": [
    "clf_dt = Pipeline(steps = [\n",
    "    ('preprocessor', preprocessor),\n",
    "    ('tree', DecisionTreeClassifier(random_state=42, max_depth=10))\n",
    "])\n",
    "\n",
    "clf_dt.fit(X_train[used_cols], y_train)\n",
    "\n",
    "train_preds = clf_dt.predict(X_train[used_cols])\n",
    "test_preds = clf_dt.predict(X_test[used_cols])\n",
    "\n",
    "train_probas = clf_dt.predict_proba(X_train[used_cols])[:,1]\n",
    "test_probas = clf_dt.predict_proba(X_test[used_cols])[:,1]"
   ]
  },
  {
   "cell_type": "code",
   "execution_count": 38,
   "metadata": {},
   "outputs": [
    {
     "name": "stdout",
     "output_type": "stream",
     "text": [
      "Train Accuracy: 0.7450\n",
      "Train F1: 0.7265\n",
      "Train Precision: 0.7436\n",
      "Train ROC-AUC: 0.8245\n",
      "********************\n",
      "Test Accuracy: 0.7265\n",
      "Test F1: 0.6674\n",
      "Test Precision: 0.6962\n",
      "Test ROC-AUC: 0.7414\n"
     ]
    }
   ],
   "source": [
    "print(f\"Train Accuracy: {accuracy_score(y_train, train_preds):.4f}\")\n",
    "print(f\"Train F1: {f1_score(y_train, train_preds):.4f}\")\n",
    "print(f\"Train Precision: {precision_score(y_train, train_preds):.4f}\")\n",
    "print(f\"Train ROC-AUC: {roc_auc_score(y_train, train_probas):.4f}\")\n",
    "print(\"*\" * 20)\n",
    "print(f\"Test Accuracy: {f1_score(y_train, train_preds):.4f}\")\n",
    "print(f\"Test F1: {f1_score(y_test, test_preds):.4f}\")\n",
    "print(f\"Test Precision: {precision_score(y_test, test_preds):.4f}\")\n",
    "print(f\"Test ROC-AUC: {roc_auc_score(y_test, test_probas):.4f}\")"
   ]
  },
  {
   "cell_type": "markdown",
   "metadata": {},
   "source": [
    "## Function "
   ]
  },
  {
   "cell_type": "code",
   "execution_count": 39,
   "metadata": {},
   "outputs": [],
   "source": [
    "def evaluate(model, Xtr, Xte, ytr, yte):\n",
    "    \"\"\"\n",
    "    credit goes to lindsey\"\"\"\n",
    "    train_preds = model.predict(Xtr)\n",
    "    test_preds = model.predict(Xte)\n",
    "\n",
    "    train_probas = model.predict_proba(Xtr)[:,1]\n",
    "    test_probas = model.predict_proba(Xte)[:,1]\n",
    "    \n",
    "    plot_confusion_matrix(model, Xte, yte)\n",
    "    \n",
    "    plot_roc_curve(model, Xte, yte)\n",
    "    \n",
    "    print(f\"Train Accuracy: {accuracy_score(ytr, train_preds):.4f}\")\n",
    "    print(f\"Train F1: {f1_score(ytr, train_preds):.4f}\")\n",
    "    print(f\"Train Precision: {precision_score(ytr, train_preds):.4f}\")\n",
    "    print(f\"Train ROC-AUC: {roc_auc_score(ytr, train_probas):.4f}\")\n",
    "    print(\"*\" * 20)\n",
    "    print(f\"Test Accuracy: {accuracy_score(yte, test_preds):.4f}\")\n",
    "    print(f\"Test F1: {f1_score(yte, test_preds):.4f}\")\n",
    "    print(f\"Test Precision: {precision_score(yte, test_preds):.4f}\")\n",
    "    print(f\"Test ROC-AUC: {roc_auc_score(yte, test_probas):.4f}\")"
   ]
  },
  {
   "cell_type": "code",
   "execution_count": 40,
   "metadata": {},
   "outputs": [
    {
     "name": "stdout",
     "output_type": "stream",
     "text": [
      "Train Accuracy: 0.7450\n",
      "Train F1: 0.7265\n",
      "Train Precision: 0.7436\n",
      "Train ROC-AUC: 0.8245\n",
      "********************\n",
      "Test Accuracy: 0.6889\n",
      "Test F1: 0.6674\n",
      "Test Precision: 0.6962\n",
      "Test ROC-AUC: 0.7414\n"
     ]
    },
    {
     "data": {
      "image/png": "[encoded data removed]",
      "text/plain": [
       "<Figure size 432x288 with 2 Axes>"
      ]
     },
     "metadata": {
      "needs_background": "light"
     },
     "output_type": "display_data"
    },
    {
     "data": {
      "image/png": "[encoded data removed]",
      "text/plain": [
       "<Figure size 432x288 with 1 Axes>"
      ]
     },
     "metadata": {
      "needs_background": "light"
     },
     "output_type": "display_data"
    }
   ],
   "source": [
    "evaluate(clf_dt, X_train[used_cols], X_test[used_cols], y_train, y_test)"
   ]
  },
  {
   "cell_type": "markdown",
   "metadata": {},
   "source": [
    "## Logistic Regression Kitchen Sink"
   ]
  },
  {
   "cell_type": "code",
   "execution_count": 41,
   "metadata": {},
   "outputs": [],
   "source": [
    "from sklearn.linear_model import LogisticRegression"
   ]
  },
  {
   "cell_type": "code",
   "execution_count": 42,
   "metadata": {},
   "outputs": [
    {
     "data": {
      "text/plain": [
       "Pipeline(steps=[('preprocessor',\n",
       "                 ColumnTransformer(transformers=[('cats',\n",
       "                                                  OneHotEncoder(handle_unknown='ignore'),\n",
       "                                                  ['age_group', 'education',\n",
       "                                                   'race', 'sex',\n",
       "                                                   'income_poverty',\n",
       "                                                   'marital_status',\n",
       "                                                   'rent_or_own',\n",
       "                                                   'employment_status']),\n",
       "                                                 ('nums', StandardScaler(),\n",
       "                                                  ['doctor_recc_seasonal',\n",
       "                                                   'chronic_med_condition',\n",
       "                                                   'child_under_6_months',\n",
       "                                                   'health_worker',\n",
       "                                                   'health_insurance',\n",
       "                                                   'household_adults',\n",
       "                                                   'household_children'])])),\n",
       "                ('logreg', LogisticRegression())])"
      ]
     },
     "execution_count": 42,
     "metadata": {},
     "output_type": "execute_result"
    }
   ],
   "source": [
    "clf_lr = Pipeline(steps=[\n",
    "    ('preprocessor', preprocessor),\n",
    "    ('logreg', LogisticRegression())\n",
    "])\n",
    "\n",
    "clf_lr.fit(X_train[used_cols], y_train)"
   ]
  },
  {
   "cell_type": "code",
   "execution_count": 43,
   "metadata": {},
   "outputs": [
    {
     "name": "stdout",
     "output_type": "stream",
     "text": [
      "Train Accuracy: 0.7088\n",
      "Train F1: 0.6849\n",
      "Train Precision: 0.7077\n",
      "Train ROC-AUC: 0.7792\n",
      "********************\n",
      "Test Accuracy: 0.7081\n",
      "Test F1: 0.6852\n",
      "Test Precision: 0.7216\n",
      "Test ROC-AUC: 0.7772\n"
     ]
    },
    {
     "data": {
      "image/png": "[encoded data removed]",
      "text/plain": [
       "<Figure size 432x288 with 2 Axes>"
      ]
     },
     "metadata": {
      "needs_background": "light"
     },
     "output_type": "display_data"
    },
    {
     "data": {
      "image/png": "[encoded data removed]",
      "text/plain": [
       "<Figure size 432x288 with 1 Axes>"
      ]
     },
     "metadata": {
      "needs_background": "light"
     },
     "output_type": "display_data"
    }
   ],
   "source": [
    "evaluate(clf_lr, X_train[used_cols], X_test[used_cols], y_train, y_test)"
   ]
  },
  {
   "cell_type": "markdown",
   "metadata": {},
   "source": [
    "## Naive Bayes Kitchen Sink"
   ]
  },
  {
   "cell_type": "code",
   "execution_count": 44,
   "metadata": {},
   "outputs": [],
   "source": [
    "from sklearn.naive_bayes import ComplementNB, GaussianNB"
   ]
  },
  {
   "cell_type": "code",
   "execution_count": 45,
   "metadata": {},
   "outputs": [
    {
     "data": {
      "text/plain": [
       "Pipeline(steps=[('preprocessor',\n",
       "                 ColumnTransformer(transformers=[('cats',\n",
       "                                                  OneHotEncoder(handle_unknown='ignore'),\n",
       "                                                  ['age_group', 'education',\n",
       "                                                   'race', 'sex',\n",
       "                                                   'income_poverty',\n",
       "                                                   'marital_status',\n",
       "                                                   'rent_or_own',\n",
       "                                                   'employment_status']),\n",
       "                                                 ('nums', StandardScaler(),\n",
       "                                                  ['doctor_recc_seasonal',\n",
       "                                                   'chronic_med_condition',\n",
       "                                                   'child_under_6_months',\n",
       "                                                   'health_worker',\n",
       "                                                   'health_insurance',\n",
       "                                                   'household_adults',\n",
       "                                                   'household_children'])])),\n",
       "                ('bayes', GaussianNB())])"
      ]
     },
     "execution_count": 45,
     "metadata": {},
     "output_type": "execute_result"
    }
   ],
   "source": [
    "clf_nb = Pipeline(steps = [\n",
    "    ('preprocessor', preprocessor),\n",
    "    ('bayes', GaussianNB())\n",
    "])\n",
    "\n",
    "clf_nb.fit(X_train[used_cols], y_train)"
   ]
  },
  {
   "cell_type": "code",
   "execution_count": 46,
   "metadata": {},
   "outputs": [
    {
     "name": "stdout",
     "output_type": "stream",
     "text": [
      "Train Accuracy: 0.6663\n",
      "Train F1: 0.6704\n",
      "Train Precision: 0.6338\n",
      "Train ROC-AUC: 0.7358\n",
      "********************\n",
      "Test Accuracy: 0.6656\n",
      "Test F1: 0.6693\n",
      "Test Precision: 0.6457\n",
      "Test ROC-AUC: 0.7267\n"
     ]
    },
    {
     "data": {
      "image/png": "[encoded data removed]",
      "text/plain": [
       "<Figure size 432x288 with 2 Axes>"
      ]
     },
     "metadata": {
      "needs_background": "light"
     },
     "output_type": "display_data"
    },
    {
     "data": {
      "image/png": "[encoded data removed]",
      "text/plain": [
       "<Figure size 432x288 with 1 Axes>"
      ]
     },
     "metadata": {
      "needs_background": "light"
     },
     "output_type": "display_data"
    }
   ],
   "source": [
    "evaluate(clf_nb, X_train[used_cols], X_test[used_cols], y_train, y_test)"
   ]
  },
  {
   "cell_type": "markdown",
   "metadata": {},
   "source": [
    "## KNN Kitchen Sink"
   ]
  },
  {
   "cell_type": "code",
   "execution_count": 47,
   "metadata": {},
   "outputs": [],
   "source": [
    "from sklearn.neighbors import KNeighborsClassifier\n",
    "from sklearn.preprocessing import MinMaxScaler, StandardScaler"
   ]
  },
  {
   "cell_type": "code",
   "execution_count": 48,
   "metadata": {},
   "outputs": [
    {
     "data": {
      "text/plain": [
       "College Graduate    6735\n",
       "Some College        4661\n",
       "12 Years            3848\n",
       "< 12 Years          1495\n",
       "Name: education, dtype: int64"
      ]
     },
     "execution_count": 48,
     "metadata": {},
     "output_type": "execute_result"
    }
   ],
   "source": [
    "X_train['education'].value_counts()"
   ]
  },
  {
   "cell_type": "code",
   "execution_count": 49,
   "metadata": {},
   "outputs": [],
   "source": [
    "# education_key = {}\n",
    "# age_key = {1: '18 - 34 Years', 2: '35 - 44 Years', 3: '45 - 54 Years', 4: '55 - 64 Years', 5: '65+ Years'}"
   ]
  },
  {
   "cell_type": "code",
   "execution_count": 50,
   "metadata": {},
   "outputs": [],
   "source": [
    "KNN = KNeighborsClassifier()\n",
    "scaler = StandardScaler()"
   ]
  },
  {
   "cell_type": "code",
   "execution_count": 51,
   "metadata": {},
   "outputs": [],
   "source": [
    "num_transformer = Pipeline(steps=[\n",
    "    ('scaler', StandardScaler())\n",
    "])\n",
    "\n",
    "cat_transformer = Pipeline(steps=[\n",
    "    ('encoder', OneHotEncoder(drop='first'))\n",
    "])\n",
    "\n",
    "preprocessor = ColumnTransformer(transformers = [\n",
    "    ('num_transformer', num_transformer, num_cols),\n",
    "    ('cat_transformer', cat_transformer, cat_columns)\n",
    "])\n"
   ]
  },
  {
   "cell_type": "code",
   "execution_count": 52,
   "metadata": {},
   "outputs": [],
   "source": [
    "clf_kn = Pipeline(steps=[\n",
    "    ('preprocessor', preprocessor),\n",
    "    ('KNN', KNN)\n",
    "])"
   ]
  },
  {
   "cell_type": "code",
   "execution_count": 53,
   "metadata": {
    "collapsed": true
   },
   "outputs": [
    {
     "data": {
      "text/plain": [
       "Pipeline(steps=[('preprocessor',\n",
       "                 ColumnTransformer(transformers=[('num_transformer',\n",
       "                                                  Pipeline(steps=[('scaler',\n",
       "                                                                   StandardScaler())]),\n",
       "                                                  ['doctor_recc_seasonal',\n",
       "                                                   'chronic_med_condition',\n",
       "                                                   'child_under_6_months',\n",
       "                                                   'health_worker',\n",
       "                                                   'health_insurance',\n",
       "                                                   'household_adults',\n",
       "                                                   'household_children']),\n",
       "                                                 ('cat_transformer',\n",
       "                                                  Pipeline(steps=[('encoder',\n",
       "                                                                   OneHotEncoder(drop='first'))]),\n",
       "                                                  ['age_group', 'education',\n",
       "                                                   'race', 'sex',\n",
       "                                                   'income_poverty',\n",
       "                                                   'marital_status',\n",
       "                                                   'rent_or_own',\n",
       "                                                   'employment_status'])])),\n",
       "                ('KNN', KNeighborsClassifier())])"
      ]
     },
     "execution_count": 53,
     "metadata": {},
     "output_type": "execute_result"
    }
   ],
   "source": [
    "clf_kn.fit(X_train, y_train)"
   ]
  },
  {
   "cell_type": "code",
   "execution_count": 54,
   "metadata": {
    "collapsed": true
   },
   "outputs": [
    {
     "name": "stdout",
     "output_type": "stream",
     "text": [
      "Train Accuracy: 0.7561\n",
      "Train F1: 0.7478\n",
      "Train Precision: 0.7379\n",
      "Train ROC-AUC: 0.8359\n",
      "********************\n",
      "Test Accuracy: 0.6749\n",
      "Test F1: 0.6661\n",
      "Test Precision: 0.6665\n",
      "Test ROC-AUC: 0.7216\n"
     ]
    },
    {
     "data": {
      "image/png": "[encoded data removed]",
      "text/plain": [
       "<Figure size 432x288 with 2 Axes>"
      ]
     },
     "metadata": {
      "needs_background": "light"
     },
     "output_type": "display_data"
    },
    {
     "data": {
      "image/png": "[encoded data removed]",
      "text/plain": [
       "<Figure size 432x288 with 1 Axes>"
      ]
     },
     "metadata": {
      "needs_background": "light"
     },
     "output_type": "display_data"
    }
   ],
   "source": [
    "evaluate(clf_kn, X_train, X_test, y_train, y_test)"
   ]
  },
  {
   "cell_type": "markdown",
   "metadata": {},
   "source": [
    "KNN and Decision Tree had highest accuracies."
   ]
  },
  {
   "cell_type": "markdown",
   "metadata": {},
   "source": [
    "## Exploring Hyperparamaters"
   ]
  },
  {
   "cell_type": "markdown",
   "metadata": {},
   "source": [
    "Naive Bayes and KNN manipulating parameters"
   ]
  },
  {
   "cell_type": "markdown",
   "metadata": {},
   "source": [
    "### NB PT. 2"
   ]
  },
  {
   "cell_type": "markdown",
   "metadata": {},
   "source": [
    "No paramaters so no grid search"
   ]
  },
  {
   "cell_type": "code",
   "execution_count": 55,
   "metadata": {},
   "outputs": [],
   "source": [
    "from sklearn.model_selection import GridSearchCV\n",
    "from sklearn.ensemble import AdaBoostClassifier"
   ]
  },
  {
   "cell_type": "markdown",
   "metadata": {},
   "source": [
    "### KNN PT.2"
   ]
  },
  {
   "cell_type": "code",
   "execution_count": 56,
   "metadata": {
    "collapsed": true
   },
   "outputs": [
    {
     "data": {
      "text/plain": [
       "GridSearchCV(cv=5,\n",
       "             estimator=Pipeline(steps=[('preprocessor',\n",
       "                                        ColumnTransformer(transformers=[('num_transformer',\n",
       "                                                                         Pipeline(steps=[('scaler',\n",
       "                                                                                          StandardScaler())]),\n",
       "                                                                         ['doctor_recc_seasonal',\n",
       "                                                                          'chronic_med_condition',\n",
       "                                                                          'child_under_6_months',\n",
       "                                                                          'health_worker',\n",
       "                                                                          'health_insurance',\n",
       "                                                                          'household_adults',\n",
       "                                                                          'household_children']),\n",
       "                                                                        ('cat_transformer',\n",
       "                                                                         Pipeline(steps=[('encoder',\n",
       "                                                                                          OneHotEncoder(drop='first'))]),\n",
       "                                                                         ['age_group',\n",
       "                                                                          'education',\n",
       "                                                                          'race',\n",
       "                                                                          'sex',\n",
       "                                                                          'income_poverty',\n",
       "                                                                          'marital_status',\n",
       "                                                                          'rent_or_own',\n",
       "                                                                          'employment_status'])])),\n",
       "                                       ('ada_i', KNeighborsClassifier())]),\n",
       "             param_grid={'ada_i__n_neighbors': [3, 5, 10],\n",
       "                         'ada_i__weights': ['uniform', 'distance']})"
      ]
     },
     "execution_count": 56,
     "metadata": {},
     "output_type": "execute_result"
    }
   ],
   "source": [
    "ada = Pipeline(steps=[\n",
    "    ('preprocessor', preprocessor),\n",
    "    ('ada_i', KNeighborsClassifier())\n",
    "])\n",
    "param_grid = {\n",
    "    'ada_i__n_neighbors': [3, 5, 10],\n",
    "    'ada_i__weights': ['uniform', 'distance']\n",
    "}\n",
    "# Create our grid search\n",
    "gs = GridSearchCV(estimator=ada, param_grid=param_grid, cv = 5)\n",
    "# Fit our grid search\n",
    "gs.fit(X_train, y_train)"
   ]
  },
  {
   "cell_type": "code",
   "execution_count": 57,
   "metadata": {
    "collapsed": true
   },
   "outputs": [
    {
     "name": "stdout",
     "output_type": "stream",
     "text": [
      "Fitting 5 folds for each of 6 candidates, totalling 30 fits\n",
      "[CV] ada_i__n_neighbors=3, ada_i__weights=uniform ....................\n"
     ]
    },
    {
     "name": "stderr",
     "output_type": "stream",
     "text": [
      "[Parallel(n_jobs=1)]: Using backend SequentialBackend with 1 concurrent workers.\n"
     ]
    },
    {
     "name": "stdout",
     "output_type": "stream",
     "text": [
      "[CV]  ada_i__n_neighbors=3, ada_i__weights=uniform, score=0.648, total=   0.9s\n",
      "[CV] ada_i__n_neighbors=3, ada_i__weights=uniform ....................\n"
     ]
    },
    {
     "name": "stderr",
     "output_type": "stream",
     "text": [
      "[Parallel(n_jobs=1)]: Done   1 out of   1 | elapsed:    0.8s remaining:    0.0s\n"
     ]
    },
    {
     "name": "stdout",
     "output_type": "stream",
     "text": [
      "[CV]  ada_i__n_neighbors=3, ada_i__weights=uniform, score=0.647, total=   0.9s\n",
      "[CV] ada_i__n_neighbors=3, ada_i__weights=uniform ....................\n"
     ]
    },
    {
     "name": "stderr",
     "output_type": "stream",
     "text": [
      "[Parallel(n_jobs=1)]: Done   2 out of   2 | elapsed:    1.8s remaining:    0.0s\n"
     ]
    },
    {
     "name": "stdout",
     "output_type": "stream",
     "text": [
      "[CV]  ada_i__n_neighbors=3, ada_i__weights=uniform, score=0.654, total=   0.8s\n",
      "[CV] ada_i__n_neighbors=3, ada_i__weights=uniform ....................\n",
      "[CV]  ada_i__n_neighbors=3, ada_i__weights=uniform, score=0.652, total=   0.9s\n",
      "[CV] ada_i__n_neighbors=3, ada_i__weights=uniform ....................\n",
      "[CV]  ada_i__n_neighbors=3, ada_i__weights=uniform, score=0.664, total=   0.9s\n",
      "[CV] ada_i__n_neighbors=3, ada_i__weights=distance ...................\n",
      "[CV]  ada_i__n_neighbors=3, ada_i__weights=distance, score=0.639, total=   0.8s\n",
      "[CV] ada_i__n_neighbors=3, ada_i__weights=distance ...................\n",
      "[CV]  ada_i__n_neighbors=3, ada_i__weights=distance, score=0.633, total=   0.7s\n",
      "[CV] ada_i__n_neighbors=3, ada_i__weights=distance ...................\n",
      "[CV]  ada_i__n_neighbors=3, ada_i__weights=distance, score=0.642, total=   0.7s\n",
      "[CV] ada_i__n_neighbors=3, ada_i__weights=distance ...................\n",
      "[CV]  ada_i__n_neighbors=3, ada_i__weights=distance, score=0.652, total=   0.7s\n",
      "[CV] ada_i__n_neighbors=3, ada_i__weights=distance ...................\n",
      "[CV]  ada_i__n_neighbors=3, ada_i__weights=distance, score=0.659, total=   0.7s\n",
      "[CV] ada_i__n_neighbors=5, ada_i__weights=uniform ....................\n",
      "[CV]  ada_i__n_neighbors=5, ada_i__weights=uniform, score=0.664, total=   0.8s\n",
      "[CV] ada_i__n_neighbors=5, ada_i__weights=uniform ....................\n",
      "[CV]  ada_i__n_neighbors=5, ada_i__weights=uniform, score=0.666, total=   0.9s\n",
      "[CV] ada_i__n_neighbors=5, ada_i__weights=uniform ....................\n",
      "[CV]  ada_i__n_neighbors=5, ada_i__weights=uniform, score=0.664, total=   0.9s\n",
      "[CV] ada_i__n_neighbors=5, ada_i__weights=uniform ....................\n",
      "[CV]  ada_i__n_neighbors=5, ada_i__weights=uniform, score=0.664, total=   1.1s\n",
      "[CV] ada_i__n_neighbors=5, ada_i__weights=uniform ....................\n",
      "[CV]  ada_i__n_neighbors=5, ada_i__weights=uniform, score=0.681, total=   1.3s\n",
      "[CV] ada_i__n_neighbors=5, ada_i__weights=distance ...................\n",
      "[CV]  ada_i__n_neighbors=5, ada_i__weights=distance, score=0.651, total=   1.2s\n",
      "[CV] ada_i__n_neighbors=5, ada_i__weights=distance ...................\n",
      "[CV]  ada_i__n_neighbors=5, ada_i__weights=distance, score=0.651, total=   1.3s\n",
      "[CV] ada_i__n_neighbors=5, ada_i__weights=distance ...................\n",
      "[CV]  ada_i__n_neighbors=5, ada_i__weights=distance, score=0.652, total=   1.4s\n",
      "[CV] ada_i__n_neighbors=5, ada_i__weights=distance ...................\n",
      "[CV]  ada_i__n_neighbors=5, ada_i__weights=distance, score=0.658, total=   1.2s\n",
      "[CV] ada_i__n_neighbors=5, ada_i__weights=distance ...................\n",
      "[CV]  ada_i__n_neighbors=5, ada_i__weights=distance, score=0.670, total=   1.1s\n",
      "[CV] ada_i__n_neighbors=10, ada_i__weights=uniform ...................\n",
      "[CV]  ada_i__n_neighbors=10, ada_i__weights=uniform, score=0.689, total=   1.4s\n",
      "[CV] ada_i__n_neighbors=10, ada_i__weights=uniform ...................\n",
      "[CV]  ada_i__n_neighbors=10, ada_i__weights=uniform, score=0.682, total=   1.1s\n",
      "[CV] ada_i__n_neighbors=10, ada_i__weights=uniform ...................\n",
      "[CV]  ada_i__n_neighbors=10, ada_i__weights=uniform, score=0.680, total=   1.1s\n",
      "[CV] ada_i__n_neighbors=10, ada_i__weights=uniform ...................\n",
      "[CV]  ada_i__n_neighbors=10, ada_i__weights=uniform, score=0.685, total=   1.4s\n",
      "[CV] ada_i__n_neighbors=10, ada_i__weights=uniform ...................\n",
      "[CV]  ada_i__n_neighbors=10, ada_i__weights=uniform, score=0.700, total=   1.0s\n",
      "[CV] ada_i__n_neighbors=10, ada_i__weights=distance ..................\n",
      "[CV]  ada_i__n_neighbors=10, ada_i__weights=distance, score=0.660, total=   1.0s\n",
      "[CV] ada_i__n_neighbors=10, ada_i__weights=distance ..................\n",
      "[CV]  ada_i__n_neighbors=10, ada_i__weights=distance, score=0.659, total=   0.8s\n",
      "[CV] ada_i__n_neighbors=10, ada_i__weights=distance ..................\n",
      "[CV]  ada_i__n_neighbors=10, ada_i__weights=distance, score=0.654, total=   0.8s\n",
      "[CV] ada_i__n_neighbors=10, ada_i__weights=distance ..................\n",
      "[CV]  ada_i__n_neighbors=10, ada_i__weights=distance, score=0.674, total=   0.8s\n",
      "[CV] ada_i__n_neighbors=10, ada_i__weights=distance ..................\n",
      "[CV]  ada_i__n_neighbors=10, ada_i__weights=distance, score=0.679, total=   0.8s\n"
     ]
    },
    {
     "name": "stderr",
     "output_type": "stream",
     "text": [
      "[Parallel(n_jobs=1)]: Done  30 out of  30 | elapsed:   29.5s finished\n"
     ]
    },
    {
     "data": {
      "text/plain": [
       "GridSearchCV(cv=5,\n",
       "             estimator=Pipeline(steps=[('preprocessor',\n",
       "                                        ColumnTransformer(transformers=[('num_transformer',\n",
       "                                                                         Pipeline(steps=[('scaler',\n",
       "                                                                                          StandardScaler())]),\n",
       "                                                                         ['doctor_recc_seasonal',\n",
       "                                                                          'chronic_med_condition',\n",
       "                                                                          'child_under_6_months',\n",
       "                                                                          'health_worker',\n",
       "                                                                          'health_insurance',\n",
       "                                                                          'household_adults',\n",
       "                                                                          'household_children']),\n",
       "                                                                        ('cat_transformer',\n",
       "                                                                         Pipeline(steps=[('encoder',\n",
       "                                                                                          OneHotEncoder(drop='first'))]),\n",
       "                                                                         ['age_group',\n",
       "                                                                          'education',\n",
       "                                                                          'race',\n",
       "                                                                          'sex',\n",
       "                                                                          'income_poverty',\n",
       "                                                                          'marital_status',\n",
       "                                                                          'rent_or_own',\n",
       "                                                                          'employment_status'])])),\n",
       "                                       ('ada_i', KNeighborsClassifier())]),\n",
       "             param_grid={'ada_i__n_neighbors': [3, 5, 10],\n",
       "                         'ada_i__weights': ['uniform', 'distance']},\n",
       "             scoring='accuracy', verbose=3)"
      ]
     },
     "execution_count": 57,
     "metadata": {},
     "output_type": "execute_result"
    }
   ],
   "source": [
    "gs = GridSearchCV(ada, param_grid, cv=5, scoring='accuracy', verbose=3)\n",
    "\n",
    "# Then fit it to our X_train and y_train\n",
    "gs.fit(X_train, y_train)"
   ]
  },
  {
   "cell_type": "code",
   "execution_count": 58,
   "metadata": {},
   "outputs": [
    {
     "data": {
      "text/plain": [
       "{'ada_i__n_neighbors': 10, 'ada_i__weights': 'uniform'}"
      ]
     },
     "execution_count": 58,
     "metadata": {},
     "output_type": "execute_result"
    }
   ],
   "source": [
    "gs.best_params_"
   ]
  },
  {
   "cell_type": "code",
   "execution_count": 59,
   "metadata": {
    "scrolled": false
   },
   "outputs": [
    {
     "data": {
      "text/plain": [
       "0.6873178213054076"
      ]
     },
     "execution_count": 59,
     "metadata": {},
     "output_type": "execute_result"
    }
   ],
   "source": [
    "gs.best_score_"
   ]
  },
  {
   "cell_type": "code",
   "execution_count": 60,
   "metadata": {},
   "outputs": [
    {
     "ename": "SyntaxError",
     "evalue": "invalid syntax (<ipython-input-60-ed63a332519c>, line 1)",
     "output_type": "error",
     "traceback": [
      "\u001b[1;36m  File \u001b[1;32m\"<ipython-input-60-ed63a332519c>\"\u001b[1;36m, line \u001b[1;32m1\u001b[0m\n\u001b[1;33m    find scores for these optimized models\u001b[0m\n\u001b[1;37m         ^\u001b[0m\n\u001b[1;31mSyntaxError\u001b[0m\u001b[1;31m:\u001b[0m invalid syntax\n"
     ]
    }
   ],
   "source": [
    "find scores for these optimized models\n",
    "recursive feature sklearn"
   ]
  },
  {
   "cell_type": "markdown",
   "metadata": {},
   "source": [
    "Decision Tree is best model"
   ]
  },
  {
   "cell_type": "code",
   "execution_count": null,
   "metadata": {},
   "outputs": [],
   "source": [
    "# Exploring more parameters for decision tree\n"
   ]
  },
  {
   "cell_type": "code",
   "execution_count": null,
   "metadata": {},
   "outputs": [],
   "source": []
  },
  {
   "cell_type": "code",
   "execution_count": null,
   "metadata": {},
   "outputs": [],
   "source": []
  },
  {
   "cell_type": "code",
   "execution_count": null,
   "metadata": {},
   "outputs": [],
   "source": []
  }
 ],
 "metadata": {
  "kernelspec": {
   "display_name": "Python (learn-env)",
   "language": "python",
   "name": "learn-env"
  },
  "language_info": {
   "codemirror_mode": {
    "name": "ipython",
    "version": 3
   },
   "file_extension": ".py",
   "mimetype": "text/x-python",
   "name": "python",
   "nbconvert_exporter": "python",
   "pygments_lexer": "ipython3",
   "version": "3.8.5"
  }
 },
 "nbformat": 4,
 "nbformat_minor": 4
}
